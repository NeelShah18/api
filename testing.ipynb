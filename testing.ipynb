{
 "cells": [
  {
   "cell_type": "code",
   "execution_count": 6,
   "metadata": {},
   "outputs": [
    {
     "name": "stdout",
     "output_type": "stream",
     "text": [
      "['389001', '390019']\n"
     ]
    }
   ],
   "source": [
    "import re\n",
    "\n",
    "t = \"I am at 389001 390019\"\n",
    "x = re.findall(r'\\d{6}',t)\n",
    "print(x)"
   ]
  },
  {
   "cell_type": "code",
   "execution_count": 2,
   "metadata": {},
   "outputs": [
    {
     "name": "stdout",
     "output_type": "stream",
     "text": [
      "['Shriji Ice Cream Parlor, No-14, Morgan Street, Hariyana', 'Jalaram Ice Cream Parlor, No-1, Swastik Street, Jaikishan', 'Neel Ice Cream Parlor, No-4, R.k. Rathod Street, Godhra', 'Sagar Ice Cream Parlor, No-1, P.P. Singh Street, Ahemdabad', 'Patel Ice Cream Parlor, No-76, S.P. Vaniya Street, Nadiad']\n"
     ]
    }
   ],
   "source": [
    "import random\n",
    "\n",
    "lis = ['Neel Ice Cream Parlor, No-4, R.k. Rathod Street, Godhra','Jalaram Ice Cream Parlor, No-1, Swastik Street, Jaikishan','Bhole Ice Cream Parlor, No-43, P.B. Bhosale Street, Bangalore','Prabhat Ice Cream Parlor, No-52, Sunrise, Kochi','Praveen Ice Cream Parlor, No-12, JP Street, Delhi','Shriji Ice Cream Parlor, No-14, Morgan Street, Hariyana','Patel Ice Cream Parlor, No-76, S.P. Vaniya Street, Nadiad','Sagar Ice Cream Parlor, No-1, P.P. Singh Street, Ahemdabad','Krishna Ice Cream Parlor, No-123, A.D.Patel Street, Anand']\n",
    "print(random.sample(lis, 5))"
   ]
  },
  {
   "cell_type": "code",
   "execution_count": null,
   "metadata": {
    "collapsed": true
   },
   "outputs": [],
   "source": [
    "import falcon\n",
    "import json\n",
    "import re\n",
    "#only for python 2\n",
    "\n",
    "class zipcode(object):\n",
    "    def on_get(self, req, resp):\n",
    "        resp.status = falcon.HTTP_200  # This is the default status\n",
    "        text = req.params['zip']\n",
    "        x = re.findall(r'\\d{6}',text)\n",
    "        #print(text)\n",
    "        result = {\n",
    "                'zip':x\n",
    "                }\n",
    "        resp.body = json.dumps(result)\n",
    "\n",
    "# falcon.API instances are callable WSGI apps\n",
    "app = falcon.API()\n",
    "# things will handle all requests to the '/things' URL path\n",
    "app.add_route('/zip', zipcode())"
   ]
  },
  {
   "cell_type": "code",
   "execution_count": null,
   "metadata": {
    "collapsed": true
   },
   "outputs": [],
   "source": [
    "#only for python 2\n",
    "\n",
    "class parlor(object):\n",
    "    def on_get(self, req, resp):\n",
    "        resp.status = falcon.HTTP_200  # This is the default status\n",
    "        text = req.params['zip']\n",
    "        lis = ['Neel Ice Cream Parlor, No-4, R.k. Rathod Street, Godhra','Jalaram Ice Cream Parlor, No-1, Swastik Street, Jaikishan','Bhole Ice Cream Parlor, No-43, P.B. Bhosale Street, Bangalore','Prabhat Ice Cream Parlor, No-52, Sunrise, Kochi','Praveen Ice Cream Parlor, No-12, JP Street, Delhi','Shriji Ice Cream Parlor, No-14, Morgan Street, Hariyana','Patel Ice Cream Parlor, No-76, S.P. Vaniya Street, Nadiad','Sagar Ice Cream Parlor, No-1, P.P. Singh Street, Ahemdabad','Krishna Ice Cream Parlor, No-123, A.D.Patel Street, Anand']\n",
    "        \n",
    "        #print(text)\n",
    "        result = {\n",
    "                'store_lis':random.sample(lis, 5)\n",
    "                }\n",
    "        resp.body = json.dumps(result)\n",
    "\n",
    "# falcon.API instances are callable WSGI apps\n",
    "app = falcon.API()\n",
    "# things will handle all requests to the '/things' URL path\n",
    "app.add_route('/parlor', parlor())"
   ]
  },
  {
   "cell_type": "code",
   "execution_count": null,
   "metadata": {
    "collapsed": true
   },
   "outputs": [],
   "source": [
    "first use before re-deploying: tmux attach -t server\n",
    "\n",
    "\n",
    "[12:33] \n",
    "and then gunicorn -b 0.0.0.0:8080 app"
   ]
  }
 ],
 "metadata": {
  "kernelspec": {
   "display_name": "Python 3",
   "language": "python",
   "name": "python3"
  },
  "language_info": {
   "codemirror_mode": {
    "name": "ipython",
    "version": 3
   },
   "file_extension": ".py",
   "mimetype": "text/x-python",
   "name": "python",
   "nbconvert_exporter": "python",
   "pygments_lexer": "ipython3",
   "version": "3.6.2"
  }
 },
 "nbformat": 4,
 "nbformat_minor": 2
}
